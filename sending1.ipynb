{
 "cells": [
  {
   "cell_type": "code",
   "execution_count": 18,
   "id": "cd6b4fea-761d-4bb4-86c2-53c084b4fc64",
   "metadata": {},
   "outputs": [],
   "source": [
    "# same imports as above but saves me time from scrolling up when restarting the notebook.\n",
    "from dask.distributed import Client, LocalCluster, Nanny, SchedulerPlugin, WorkerPlugin, Future, secede, rejoin\n",
    "from dask.distributed import print as dprint\n",
    "from dask.highlevelgraph import HighLevelGraph\n",
    "from dask.distributed import Queue, Variable, Event, get_client, worker_client\n",
    "import numpy as np\n",
    "import dask\n",
    "import dask.array as da\n",
    "import dask.dataframe as dd\n",
    "import graphviz\n",
    "import logging\n",
    "import itertools\n",
    "import time\n",
    "import zmq"
   ]
  },
  {
   "cell_type": "code",
   "execution_count": 19,
   "id": "93d10db8-d177-4d19-ba4d-16091ff679e5",
   "metadata": {},
   "outputs": [],
   "source": [
    "np.random.seed(42)"
   ]
  },
  {
   "cell_type": "code",
   "execution_count": 20,
   "id": "93d5e264-6b68-4b08-bfb6-2edb6c6ab607",
   "metadata": {},
   "outputs": [],
   "source": [
    "client = Client(scheduler_file = \"scheduler.json\")\n",
    "q0 = Queue(\"rank0\")\n",
    "q1 = Queue(\"rank1\")"
   ]
  },
  {
   "cell_type": "code",
   "execution_count": 21,
   "id": "f2e0563d-7bf7-49ff-b9c5-df6e65372ebb",
   "metadata": {},
   "outputs": [],
   "source": [
    "np_arr = []\n",
    "for i in range(5):\n",
    "    data0 = np.random.rand(1,5,20)\n",
    "    data1 = np.random.rand(1,5,20)\n",
    "    #data0 = np.zeros((1,5,20))\n",
    "    #data1 = np.ones((1,5,20))\n",
    "    np_arr.append((data0,data1))\n",
    "    # w0 gets zeros\n",
    "    f0 = client.scatter(data0, direct = True, workers = [\"worker0\"])\n",
    "    # w1 gets ones\n",
    "    f1 = client.scatter(data1, direct = True, workers = [\"worker1\"])\n",
    "\n",
    "    q0.put(f0)\n",
    "    q1.put(f1)\n",
    "    # to mimic process taking a while\n",
    "    time.sleep(10)\n"
   ]
  },
  {
   "cell_type": "code",
   "execution_count": 22,
   "id": "73563dfb-1ac2-4bc3-8463-67de264eb44f",
   "metadata": {},
   "outputs": [],
   "source": [
    "np_full = [np.concatenate(pair,axis=1) for pair in np_arr]\n",
    "np_full = np.vstack(np_full)"
   ]
  },
  {
   "cell_type": "code",
   "execution_count": 23,
   "id": "b86d3d49-72e5-4d84-8e27-6b8b1f8bc4ce",
   "metadata": {},
   "outputs": [],
   "source": [
    "def Derivee(F, dx):\n",
    "    \"\"\"\n",
    "    First Derivative\n",
    "    Input: F = function to be derived\n",
    "           dx = step of the variable for derivative\n",
    "    Output: dFdx = first derivative of F\n",
    "    \"\"\"\n",
    "    c0 = 2.0 / 3.0\n",
    "    dFdx = c0 / dx * (F[3:-1] - F[1:-3] - (F[4:] - F[:-4]) / 8.0)\n",
    "    return dFdx"
   ]
  },
  {
   "cell_type": "code",
   "execution_count": 24,
   "id": "80ec0a4b-b23e-4245-b158-5cc3000d9b4c",
   "metadata": {},
   "outputs": [
    {
     "name": "stdout",
     "output_type": "stream",
     "text": [
      "-0.01535692703889472\n"
     ]
    }
   ],
   "source": [
    "print(Derivee(np_full, 1).mean())"
   ]
  }
 ],
 "metadata": {
  "kernelspec": {
   "display_name": "Python 3 (ipykernel)",
   "language": "python",
   "name": "python3"
  },
  "language_info": {
   "codemirror_mode": {
    "name": "ipython",
    "version": 3
   },
   "file_extension": ".py",
   "mimetype": "text/x-python",
   "name": "python",
   "nbconvert_exporter": "python",
   "pygments_lexer": "ipython3",
   "version": "3.12.6"
  }
 },
 "nbformat": 4,
 "nbformat_minor": 5
}
